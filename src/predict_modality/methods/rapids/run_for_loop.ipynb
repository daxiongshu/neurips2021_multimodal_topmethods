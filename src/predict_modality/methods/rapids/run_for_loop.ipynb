{
 "cells": [
  {
   "cell_type": "code",
   "execution_count": 1,
   "id": "54964408-f57b-440f-91c3-144c24238284",
   "metadata": {},
   "outputs": [],
   "source": [
    "import cuml\n",
    "import cudf\n",
    "import cupy as cp\n",
    "import numpy as np"
   ]
  },
  {
   "cell_type": "code",
   "execution_count": 2,
   "id": "40680ab9-9c6a-4e5c-a558-756e3067fe38",
   "metadata": {},
   "outputs": [],
   "source": [
    "import anndata as ad\n",
    "import os\n",
    "import logging"
   ]
  },
  {
   "cell_type": "code",
   "execution_count": 3,
   "id": "695fd47a-89d3-400e-9d6e-9246e53130f4",
   "metadata": {},
   "outputs": [],
   "source": [
    "from scipy.sparse import csc_matrix\n",
    "from sklearn.decomposition import TruncatedSVD\n",
    "from sklearn.gaussian_process.kernels import RBF\n",
    "from sklearn.kernel_ridge import KernelRidge"
   ]
  },
  {
   "cell_type": "code",
   "execution_count": 4,
   "id": "700a0d13-5d19-40a8-8634-661e75052715",
   "metadata": {},
   "outputs": [],
   "source": [
    "path = '../../../..'\n",
    "task = 'predict_modality'\n",
    "par = {\n",
    "    'input_train_mod1': f'{path}/sample_data/{task}/openproblems_bmmc_multiome_starter/openproblems_bmmc_multiome_starter.train_mod1.h5ad',\n",
    "    'input_train_mod2': f'{path}/sample_data/{task}/openproblems_bmmc_multiome_starter/openproblems_bmmc_multiome_starter.train_mod2.h5ad',\n",
    "    'input_test_mod1': f'{path}/sample_data/{task}/openproblems_bmmc_multiome_starter/openproblems_bmmc_multiome_starter.test_mod1.h5ad',\n",
    "    'input_test_mod2': f'{path}/sample_data/{task}/openproblems_bmmc_multiome_starter/openproblems_bmmc_multiome_starter.test_mod2.h5ad',\n",
    "    'output': 'output.h5ad',\n",
    "}\n",
    "meta = { 'functionality_name': 'rapids_for_loop' }"
   ]
  },
  {
   "cell_type": "code",
   "execution_count": 5,
   "id": "ba1035b9-4c33-4cbe-8c4d-2e3245cc009a",
   "metadata": {},
   "outputs": [
    {
     "name": "stdout",
     "output_type": "stream",
     "text": [
      "input_train_mod1 True\n",
      "input_train_mod2 True\n",
      "input_test_mod1 True\n",
      "input_test_mod2 True\n",
      "output True\n"
     ]
    }
   ],
   "source": [
    "for k,v in par.items():\n",
    "    print(k, os.path.exists(v))"
   ]
  },
  {
   "cell_type": "code",
   "execution_count": 6,
   "id": "47a92d7b-7e52-42f1-ac78-5fcea3b74115",
   "metadata": {},
   "outputs": [],
   "source": [
    "input_train_mod1 = ad.read_h5ad(par['input_train_mod1'])\n",
    "input_train_mod2 = ad.read_h5ad(par['input_train_mod2'])\n",
    "input_test_mod1 = ad.read_h5ad(par['input_test_mod1'])\n",
    "input_test_mod2 = ad.read_h5ad(par['input_test_mod2'])"
   ]
  },
  {
   "cell_type": "code",
   "execution_count": 7,
   "id": "cba4dadb-9866-43f5-a6a5-5b32005ee633",
   "metadata": {},
   "outputs": [],
   "source": [
    "pred_dimx = input_test_mod1.shape[0]\n",
    "pred_dimy = input_train_mod2.shape[1]\n",
    "\n",
    "feature_obs = input_train_mod1.obs\n",
    "gs_obs = input_train_mod2.obs"
   ]
  },
  {
   "cell_type": "code",
   "execution_count": 8,
   "id": "fa32db09-9b41-4cd8-926c-44edb3bc127b",
   "metadata": {},
   "outputs": [
    {
     "data": {
      "text/plain": [
       "(279, 600)"
      ]
     },
     "execution_count": 8,
     "metadata": {},
     "output_type": "execute_result"
    }
   ],
   "source": [
    "pred_dimx, pred_dimy"
   ]
  },
  {
   "cell_type": "code",
   "execution_count": 9,
   "id": "7addaa72-4dbc-4447-87c9-a5aebfb71897",
   "metadata": {},
   "outputs": [],
   "source": [
    "batches = input_train_mod1.obs.batch.unique().tolist()\n",
    "batch_len = len(batches)"
   ]
  },
  {
   "cell_type": "code",
   "execution_count": 10,
   "id": "bcd8c17f-96a9-4f53-ae9b-8e7e6a45545f",
   "metadata": {},
   "outputs": [
    {
     "data": {
      "text/plain": [
       "['s1d1']"
      ]
     },
     "execution_count": 10,
     "metadata": {},
     "output_type": "execute_result"
    }
   ],
   "source": [
    "batches"
   ]
  },
  {
   "cell_type": "code",
   "execution_count": 11,
   "id": "1a86f9a6-59af-416b-a3f8-a78b292b38b2",
   "metadata": {},
   "outputs": [],
   "source": [
    "obs = input_test_mod1.obs\n",
    "var = input_train_mod2.var\n",
    "dataset_id = input_train_mod1.uns['dataset_id']"
   ]
  },
  {
   "cell_type": "code",
   "execution_count": 12,
   "id": "6118ddb3-9853-4b99-8078-7601490271b2",
   "metadata": {},
   "outputs": [],
   "source": [
    "input_train = ad.concat(\n",
    "    {\"train\": input_train_mod1, \"test\": input_test_mod1},\n",
    "    axis=0,\n",
    "    join=\"outer\",\n",
    "    label=\"group\",\n",
    "    fill_value=0,\n",
    "    index_unique=\"-\"\n",
    ")"
   ]
  },
  {
   "cell_type": "code",
   "execution_count": 13,
   "id": "03b9ad5f-9e3f-495d-b925-50f7a50cdc03",
   "metadata": {},
   "outputs": [],
   "source": [
    "logging.info('Determine parameters by the modalities')\n",
    "mod1_type = input_train_mod1.var.feature_types[0]\n",
    "mod1_type = mod1_type.upper()\n",
    "mod2_type = input_train_mod2.var.feature_types[0]\n",
    "mod2_type = mod2_type.upper()\n",
    "n_comp_dict = {\n",
    "        (\"GEX\", \"ADT\"): (300, 70, 10, 0.2),\n",
    "        (\"ADT\", \"GEX\"): (None, 50, 10, 0.2),\n",
    "        (\"GEX\", \"ATAC\"): (1000, 50, 10, 0.1),\n",
    "        (\"ATAC\", \"GEX\"): (100, 70, 10, 0.1)\n",
    "        }\n",
    "logging.info(f\"{mod1_type}, {mod2_type}\")\n",
    "n_mod1, n_mod2, scale, alpha = n_comp_dict[(mod1_type, mod2_type)]\n",
    "logging.info(f\"{n_mod1}, {n_mod2}, {scale}, {alpha}\")"
   ]
  },
  {
   "cell_type": "code",
   "execution_count": 14,
   "id": "2e772434-0d00-4ff8-9c16-6e4974bfd064",
   "metadata": {},
   "outputs": [],
   "source": [
    "logging.info('Models using the Truncated SVD to reduce the dimension')\n",
    "\n",
    "if n_mod1 is not None and n_mod1 < input_train.shape[1]:\n",
    "    embedder_mod1 = cuml.TruncatedSVD(n_components=n_mod1)\n",
    "    mod1_pca = embedder_mod1.fit_transform(input_train.X.toarray()).astype(np.float32)\n",
    "    train_matrix = mod1_pca[input_train.obs['group'] == 'train']\n",
    "    test_matrix = mod1_pca[input_train.obs['group'] == 'test']\n",
    "else:\n",
    "    train_matrix = input_train_mod1.to_df().values.astype(np.float32)\n",
    "    test_matrix = input_test_mod1.to_df().values.astype(np.float32)\n",
    "\n",
    "if n_mod2 is not None and n_mod2 < input_train_mod2.shape[1]:\n",
    "    embedder_mod2 = cuml.TruncatedSVD(n_components=n_mod2)\n",
    "    train_gs = embedder_mod2.fit_transform(input_train_mod2.X.toarray()).astype(np.float32)\n",
    "else:\n",
    "    train_gs = input_train_mod2.to_df().values.astype(np.float32)\n",
    "\n",
    "del input_train\n",
    "del input_train_mod1\n",
    "del input_train_mod2\n",
    "del input_test_mod1"
   ]
  },
  {
   "cell_type": "code",
   "execution_count": 15,
   "id": "691b31d1-30ac-4244-9907-00a274630602",
   "metadata": {},
   "outputs": [],
   "source": [
    "logging.info('Running normalization ...')\n",
    "train_sd = np.std(train_matrix, axis=1).reshape(-1, 1)\n",
    "train_sd[train_sd == 0] = 1\n",
    "train_norm = (train_matrix - np.mean(train_matrix, axis=1).reshape(-1, 1)) / train_sd\n",
    "train_norm = train_norm.astype(np.float32)\n",
    "del train_matrix\n",
    "\n",
    "test_sd = np.std(test_matrix, axis=1).reshape(-1, 1)\n",
    "test_sd[test_sd == 0] = 1\n",
    "test_norm = (test_matrix - np.mean(test_matrix, axis=1).reshape(-1, 1)) / test_sd\n",
    "test_norm = test_norm.astype(np.float32)\n",
    "del test_matrix\n",
    "\n"
   ]
  },
  {
   "cell_type": "code",
   "execution_count": 16,
   "id": "14a286d8-150c-4313-b0e5-75fe4f729618",
   "metadata": {},
   "outputs": [
    {
     "name": "stdout",
     "output_type": "stream",
     "text": [
      "CPU times: user 31.2 s, sys: 28.6 s, total: 59.8 s\n",
      "Wall time: 834 ms\n"
     ]
    }
   ],
   "source": [
    "%%time\n",
    "logging.info('Running KRR model ...')\n",
    "y_pred = np.zeros((pred_dimx, pred_dimy), dtype=np.float32)\n",
    "np.random.seed(1000)\n",
    "for _ in range(5):\n",
    "    np.random.shuffle(batches)\n",
    "    for batch in [batches[:batch_len//2], batches[batch_len//2:]]:\n",
    "        # for passing the test\n",
    "        if not batch:\n",
    "            batch = [batches[0]]\n",
    "\n",
    "        logging.info(batch)\n",
    "        kernel = RBF(length_scale = scale)\n",
    "        krr = KernelRidge(alpha=alpha, kernel=kernel)\n",
    "        logging.info('Fitting KRR ... ')\n",
    "        krr.fit(train_norm[feature_obs.batch.isin(batch)], \n",
    "                train_gs[gs_obs.batch.isin(batch)])\n",
    "        y_pred += (krr.predict(test_norm) @ embedder_mod2.components_.to_output('numpy'))"
   ]
  },
  {
   "cell_type": "code",
   "execution_count": 17,
   "id": "87bdce3d-4662-47c4-84cf-2474117fa6d4",
   "metadata": {},
   "outputs": [],
   "source": [
    "np.clip(y_pred, a_min=0, a_max=None, out=y_pred)\n",
    "if mod2_type == \"ATAC\":\n",
    "    np.clip(y_pred, a_min=0, a_max=1, out=y_pred)\n",
    "\n",
    "y_pred /= 10"
   ]
  },
  {
   "cell_type": "code",
   "execution_count": 18,
   "id": "e7b44d3f-367f-41ef-b2a0-0979c4db6b09",
   "metadata": {},
   "outputs": [
    {
     "data": {
      "text/plain": [
       "((279, 600), (279, 600))"
      ]
     },
     "execution_count": 18,
     "metadata": {},
     "output_type": "execute_result"
    }
   ],
   "source": [
    "y_pred.shape, input_test_mod2.shape"
   ]
  },
  {
   "cell_type": "code",
   "execution_count": 19,
   "id": "1a5f72ee-3882-4320-810a-063650dca5bc",
   "metadata": {},
   "outputs": [
    {
     "data": {
      "text/plain": [
       "'RMSE: 0.340'"
      ]
     },
     "execution_count": 19,
     "metadata": {},
     "output_type": "execute_result"
    }
   ],
   "source": [
    "tmp = y_pred - input_test_mod2.X\n",
    "rmse = np.sqrt(np.square(tmp).mean())\n",
    "f\"RMSE: {rmse:.3f}\""
   ]
  },
  {
   "cell_type": "code",
   "execution_count": 20,
   "id": "c8eefd65-2a04-47bd-9786-32b173aaf13d",
   "metadata": {},
   "outputs": [
    {
     "name": "stdout",
     "output_type": "stream",
     "text": [
      "CPU times: user 50.4 s, sys: 47.5 s, total: 1min 37s\n",
      "Wall time: 13.1 s\n"
     ]
    }
   ],
   "source": [
    "%%time\n",
    "y_pred = np.zeros((pred_dimx, pred_dimy), dtype=np.float32)\n",
    "np.random.seed(1000)\n",
    "for _ in range(5):\n",
    "    np.random.shuffle(batches)\n",
    "    for batch in [batches[:batch_len//2], batches[batch_len//2:]]:\n",
    "        # for passing the test\n",
    "        if not batch:\n",
    "            batch = [batches[0]]\n",
    "\n",
    "        logging.info(batch)\n",
    "        ytp = []\n",
    "        for i in range(train_gs.shape[1]):\n",
    "            svm = cuml.SVR()\n",
    "            svm.fit(train_norm[feature_obs.batch.isin(batch)], \n",
    "                train_gs[gs_obs.batch.isin(batch)][:,i])\n",
    "            ytp.append(svm.predict(test_norm))\n",
    "        ytp = np.array(ytp).T\n",
    "        y_pred += (ytp @ embedder_mod2.components_.to_output('numpy'))\n",
    "np.clip(y_pred, a_min=0, a_max=None, out=y_pred)\n",
    "if mod2_type == \"ATAC\":\n",
    "    np.clip(y_pred, a_min=0, a_max=1, out=y_pred)\n",
    "\n",
    "y_pred /= 10"
   ]
  },
  {
   "cell_type": "code",
   "execution_count": 21,
   "id": "03ae1180-dc45-48b9-a3de-fae5159e181b",
   "metadata": {},
   "outputs": [
    {
     "data": {
      "text/plain": [
       "'RMSE: 0.339'"
      ]
     },
     "execution_count": 21,
     "metadata": {},
     "output_type": "execute_result"
    }
   ],
   "source": [
    "tmp = y_pred - input_test_mod2.X\n",
    "rmse = np.sqrt(np.square(tmp).mean())\n",
    "f\"RMSE: {rmse:.3f}\""
   ]
  },
  {
   "cell_type": "code",
   "execution_count": 22,
   "id": "0afacd14-d2c5-4b8f-9e3d-22a130c3cc5d",
   "metadata": {},
   "outputs": [],
   "source": [
    "y_pred = csc_matrix(y_pred)\n",
    "\n",
    "logging.info(\"Generate anndata object ...\")\n",
    "adata = ad.AnnData(\n",
    "    X=y_pred,\n",
    "    obs=obs,\n",
    "    var=var,\n",
    "    uns={\n",
    "        'dataset_id': dataset_id,\n",
    "        'method_id': meta['functionality_name'],\n",
    "    },\n",
    ")\n",
    "\n",
    "logging.info('Storing annotated data...')\n",
    "adata.write_h5ad(par['output'], compression = \"gzip\")"
   ]
  }
 ],
 "metadata": {
  "kernelspec": {
   "display_name": "Python 3 (ipykernel)",
   "language": "python",
   "name": "python3"
  },
  "language_info": {
   "codemirror_mode": {
    "name": "ipython",
    "version": 3
   },
   "file_extension": ".py",
   "mimetype": "text/x-python",
   "name": "python",
   "nbconvert_exporter": "python",
   "pygments_lexer": "ipython3",
   "version": "3.8.12"
  },
  "widgets": {
   "application/vnd.jupyter.widget-state+json": {
    "state": {},
    "version_major": 2,
    "version_minor": 0
   }
  }
 },
 "nbformat": 4,
 "nbformat_minor": 5
}
